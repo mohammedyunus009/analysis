{
 "cells": [
  {
   "cell_type": "code",
   "execution_count": 2,
   "metadata": {},
   "outputs": [],
   "source": [
    "import pandas as pd\n",
    "import difflib"
   ]
  },
  {
   "cell_type": "code",
   "execution_count": 49,
   "metadata": {},
   "outputs": [
    {
     "data": {
      "text/plain": [
       "(Index(['Unnamed: 0', 'F_name', 'L_name', 'Phone number', 'email', 'education',\n",
       "        'Documant name', 'CID', 'Unnamed: 8', 'Unnamed: 9'],\n",
       "       dtype='object'),\n",
       " Index(['RID', 'Fname', 'Lname', 'Mobile1', 'Email1'], dtype='object'),\n",
       " Index(['rid', 'Title', 'Email1'], dtype='object'))"
      ]
     },
     "execution_count": 49,
     "metadata": {},
     "output_type": "execute_result"
    }
   ],
   "source": [
    "actual_det = pd.read_csv(\"/home/yunus/status_parse2/BRPPV01 - auto parse accuracy.tsv\",sep='\\t').drop_duplicates()\n",
    "# df.keys()\n",
    "posted_det = pd.read_csv(\"/home/yunus/status_parse2/can_details.txt\",sep='\\t').drop_duplicates()\n",
    "edu_df = pd.read_csv(\"/home/yunus/status_parse2/can_edu1.txt\",sep=',')\n",
    "\n",
    "# df['Unnamed: 1']\n",
    "actual_det.keys() ,posted_det.keys(),edu_df.keys()"
   ]
  },
  {
   "cell_type": "code",
   "execution_count": 123,
   "metadata": {
    "scrolled": true
   },
   "outputs": [
    {
     "data": {
      "text/plain": [
       "(55, 55, 35, 20)"
      ]
     },
     "execution_count": 123,
     "metadata": {},
     "output_type": "execute_result"
    }
   ],
   "source": [
    "tu=[]\n",
    "e_lis , ac_name , po_name , sta , ph =[],[],[],[] , []\n",
    "ac_h_num , po_h_num , ph_sta =[],[],[]\n",
    "doc_na_lis = []\n",
    "exceptional_lis = []\n",
    "ph_sta_T ,ph_sta_F =[],[]\n",
    "na_sta_T , na_sta_F = [],[]\n",
    "for i in posted_det['Email1']:\n",
    "#     print(i)\n",
    "    if not actual_det.email[actual_det.email == str(i)].empty:\n",
    "        ema = actual_det.email[actual_det.email == str(i)].iloc[0]\n",
    "        na_actual = actual_det.F_name[actual_det.email == str(i)].iloc[0]\n",
    "        na_poste = posted_det.Fname[posted_det.Email1 == str(i)].iloc[0]\n",
    "        \n",
    "        if not actual_det['Documant name'].where(actual_det.email == str(i)).dropna().empty:\n",
    "            doc_name = actual_det['Documant name'].where(actual_det.email == str(i)).dropna().iloc[0]\n",
    "        else:\n",
    "            doc_name=''\n",
    "        \n",
    "        if not actual_det['Phone number'].where(actual_det.email == str(i)).dropna().empty and not posted_det['Mobile1'].where(actual_det.email == str(i)).dropna().empty:\n",
    "            ac_ph_num = actual_det['Phone number'].where(actual_det.email == str(i)).dropna().iloc[0]\n",
    "            po_ph_num = posted_det['Mobile1'].where(posted_det.Email1 == str(i)).dropna().iloc[0]\n",
    "        else:\n",
    "            ac_ph_num = 'dont match'\n",
    "            po_ph_num = 'noth'\n",
    "#         print(ac_ph_num,po_ph_num)\n",
    "        ac_h_num.append(ac_ph_num), po_h_num.append(po_ph_num)\n",
    "        e_lis.append(ema),ac_name.append(na_actual),po_name.append(na_poste)\n",
    "        doc_na_lis.append(doc_name)\n",
    "#         print(na_actual,na_poste)\n",
    "\n",
    "        if difflib.SequenceMatcher(None, str(ac_ph_num), str(po_ph_num) ).ratio()>0.6:\n",
    "            ph_sta.append('T')\n",
    "            ph_sta_T.append('T')\n",
    "#             sta.append('T')\n",
    "        else:\n",
    "            ph_sta.append('F')\n",
    "            ph_sta_T.append('F')\n",
    "#             sta.append('F')\n",
    "\n",
    "\n",
    "\n",
    "        if difflib.SequenceMatcher(None, str(na_poste).lower(),str(na_actual).lower() ).ratio()>0.8:\n",
    "            tu.append( (ema,na_actual,na_poste ,'T') )\n",
    "            sta.append('T')\n",
    "            na_sta_T.append('T')\n",
    "        else:\n",
    "            tu.append( (ema ,na_actual,na_poste,'F' ) )\n",
    "            sta.append('F')\n",
    "            na_sta_F.append('F')\n",
    "\n",
    "    else:\n",
    "        exceptional_lis.append(i)\n",
    "#     print(i)\n",
    "#     print(actual_det.email[actual_det.email == str(i)])\n",
    "\n",
    "dat={\"Doc_name\":doc_na_lis,\"email\":e_lis,\"ACTUAL_NAME\":ac_name,\"POSTED_NAMES\":po_name ,\"NAME_status\":sta ,\n",
    "     'ACTUAL_PH':ac_h_num , 'POSTED_PH':po_h_num, 'PHONE_STATUS':ph_sta}\n",
    "# df.dropna(axis=1)\n",
    "# df.iloc(0)\n",
    "# dir()\n",
    "# df.where\n",
    "# can.F_name\n",
    "len(tu),len(ph_sta_T), len(na_sta_T) , len(na_sta_F)"
   ]
  },
  {
   "cell_type": "code",
   "execution_count": 1,
   "metadata": {},
   "outputs": [
    {
     "ename": "NameError",
     "evalue": "name 'exceptional_lis' is not defined",
     "output_type": "error",
     "traceback": [
      "\u001b[0;31m---------------------------------------------------------------------------\u001b[0m",
      "\u001b[0;31mNameError\u001b[0m                                 Traceback (most recent call last)",
      "\u001b[0;32m<ipython-input-1-9120d6c18f84>\u001b[0m in \u001b[0;36m<module>\u001b[0;34m\u001b[0m\n\u001b[1;32m      1\u001b[0m \u001b[0;31m# actual_det.email[actual_det.email =='ankitshar59@gmail.com'].iloc[0]\u001b[0m\u001b[0;34m\u001b[0m\u001b[0;34m\u001b[0m\u001b[0;34m\u001b[0m\u001b[0m\n\u001b[1;32m      2\u001b[0m \u001b[0;31m# actual_det['Phone number'].where(actual_det.email == 'ashok.medukuri@gmail.com')\u001b[0m\u001b[0;34m\u001b[0m\u001b[0;34m\u001b[0m\u001b[0;34m\u001b[0m\u001b[0m\n\u001b[0;32m----> 3\u001b[0;31m \u001b[0mexceptional_lis\u001b[0m\u001b[0;34m,\u001b[0m\u001b[0;34m\u001b[0m\u001b[0;34m\u001b[0m\u001b[0m\n\u001b[0m\u001b[1;32m      4\u001b[0m \u001b[0;31m# actual_det.email[34]\u001b[0m\u001b[0;34m\u001b[0m\u001b[0;34m\u001b[0m\u001b[0;34m\u001b[0m\u001b[0m\n\u001b[1;32m      5\u001b[0m \u001b[0;31m# actual_det.email[actual_det.email == 'atri.kundu1982@gmail.com']\u001b[0m\u001b[0;34m\u001b[0m\u001b[0;34m\u001b[0m\u001b[0;34m\u001b[0m\u001b[0m\n",
      "\u001b[0;31mNameError\u001b[0m: name 'exceptional_lis' is not defined"
     ]
    }
   ],
   "source": [
    "# actual_det.email[actual_det.email =='ankitshar59@gmail.com'].iloc[0]\n",
    "# actual_det['Phone number'].where(actual_det.email == 'ashok.medukuri@gmail.com')\n",
    "exceptional_lis,\n",
    "# actual_det.email[34]\n",
    "# actual_det.email[actual_det.email == 'atri.kundu1982@gmail.com']"
   ]
  },
  {
   "cell_type": "code",
   "execution_count": 318,
   "metadata": {},
   "outputs": [],
   "source": [
    "df = pd.DataFrame(dat, columns = ['Doc_name','email', 'ACTUAL_NAME','POSTED_NAMES','NAME_status','ACTUAL_PH', 'POSTED_PH', 'PHONE_STATUS'])\n",
    "df.to_excel('tes.xls')"
   ]
  },
  {
   "cell_type": "code",
   "execution_count": 315,
   "metadata": {},
   "outputs": [
    {
     "data": {
      "text/plain": [
       "69    /home/yunus/status_parse2/imp_res/Untitled Fol...\n",
       "Name: Documant name, dtype: object"
      ]
     },
     "execution_count": 315,
     "metadata": {},
     "output_type": "execute_result"
    }
   ],
   "source": [
    "dir(pd.DataFrame)\n",
    "actual_det['Phone number'].where(actual_det.email == \"ashok.medukuri@gmail.com\" ).dropna().iloc[0]\n",
    "actual_det['Documant name'].where(actual_det.email == str(i)).dropna()"
   ]
  },
  {
   "cell_type": "code",
   "execution_count": 118,
   "metadata": {},
   "outputs": [
    {
     "data": {
      "text/plain": [
       "(40, 40)"
      ]
     },
     "execution_count": 118,
     "metadata": {},
     "output_type": "execute_result"
    }
   ],
   "source": [
    "posted_lis_tup, actual_lis_tup = [],[]\n",
    "ema=[]\n",
    "file_name=[]\n",
    "for i in actual_det.email:\n",
    "    tu,tu1 = [],[]\n",
    "    if not actual_det.education[actual_det.email==i].dropna().empty and not edu_df.Title[edu_df.Email1 == i].dropna().empty:\n",
    "        ema.append(i)\n",
    "        for j in range(0, len(edu_df.Title[edu_df.Email1 == i].dropna() )):\n",
    "             tu.append( edu_df.Title[edu_df.Email1 == i].dropna().iloc[j] )\n",
    "        posted_lis_tup.append(' ,'.join(tu))\n",
    "        \n",
    "        for j in range(0, len(actual_det.education[actual_det.email == i].dropna() )):\n",
    "             tu1.append( actual_det.education[actual_det.email == i].dropna().iloc[j] )\n",
    "        actual_lis_tup.append(', '.join(tu1))\n",
    "        \n",
    "        if not actual_det['Documant name'].where(actual_det.email == str(i)).dropna().empty:\n",
    "            doc_na = actual_det['Documant name'].where(actual_det.email == str(i)).dropna().iloc[0]\n",
    "        else:\n",
    "            doc_na = ' '\n",
    "        file_name.append(doc_na)\n",
    "        \n",
    "len(posted_lis_tup),len(actual_lis_tup)\n",
    "#     dup_tes.append( edu_df.Title[edu_df.Email1 == i].dropna().iloc[:] )"
   ]
  },
  {
   "cell_type": "code",
   "execution_count": 121,
   "metadata": {},
   "outputs": [
    {
     "data": {
      "text/plain": [
       "14    B.E , Intermediate , Matriculation\n",
       "Name: education, dtype: object"
      ]
     },
     "execution_count": 121,
     "metadata": {},
     "output_type": "execute_result"
    }
   ],
   "source": [
    "# dup_tes\n",
    "# for i in range(0,len(edu_df.Title[edu_df.Email1 == 'crgr200@gmail.com']) ):\n",
    "#     print(edu_df.Title[edu_df.Email1 == 'crgr200@gmail.com'].iloc[i] )\n",
    "actual_det.education[actual_det.email=='arpitbansal30@gmail.com'].dropna()"
   ]
  },
  {
   "cell_type": "code",
   "execution_count": 120,
   "metadata": {},
   "outputs": [],
   "source": [
    "dat1={'File name': file_name ,'Email':ema, 'Posted Education': posted_lis_tup,'Actual Education':actual_lis_tup,}\n",
    "df = pd.DataFrame(dat1, columns = ['File name','Email','Posted Education','Actual Education'])\n",
    "df.to_excel('del.xls')"
   ]
  },
  {
   "cell_type": "code",
   "execution_count": 2,
   "metadata": {},
   "outputs": [
    {
     "ename": "NameError",
     "evalue": "name 'actual_det' is not defined",
     "output_type": "error",
     "traceback": [
      "\u001b[0;31m---------------------------------------------------------------------------\u001b[0m",
      "\u001b[0;31mNameError\u001b[0m                                 Traceback (most recent call last)",
      "\u001b[0;32m<ipython-input-2-154d6ac15c1a>\u001b[0m in \u001b[0;36m<module>\u001b[0;34m\u001b[0m\n\u001b[0;32m----> 1\u001b[0;31m \u001b[0mactual_det\u001b[0m\u001b[0;34m.\u001b[0m\u001b[0miloc\u001b[0m\u001b[0;34m[\u001b[0m\u001b[0;34m:\u001b[0m\u001b[0;34m:\u001b[0m\u001b[0;34m-\u001b[0m\u001b[0;36m1\u001b[0m\u001b[0;34m]\u001b[0m\u001b[0;34m\u001b[0m\u001b[0;34m\u001b[0m\u001b[0m\n\u001b[0m",
      "\u001b[0;31mNameError\u001b[0m: name 'actual_det' is not defined"
     ]
    }
   ],
   "source": [
    "actual_det.iloc[::-1]"
   ]
  }
 ],
 "metadata": {
  "kernelspec": {
   "display_name": "py3-env",
   "language": "python",
   "name": "py3-env"
  },
  "language_info": {
   "codemirror_mode": {
    "name": "ipython",
    "version": 3
   },
   "file_extension": ".py",
   "mimetype": "text/x-python",
   "name": "python",
   "nbconvert_exporter": "python",
   "pygments_lexer": "ipython3",
   "version": "3.7.2"
  }
 },
 "nbformat": 4,
 "nbformat_minor": 2
}
